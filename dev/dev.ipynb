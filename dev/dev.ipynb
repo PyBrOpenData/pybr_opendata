{
 "cells": [
  {
   "cell_type": "markdown",
   "metadata": {},
   "source": [
    "## Notebook para testes"
   ]
  },
  {
   "cell_type": "code",
   "execution_count": 1,
   "metadata": {},
   "outputs": [],
   "source": [
    "import base64\n",
    "\n",
    "import pandas as pd\n",
    "import os\n",
    "import requests\n",
    "import streamlit as st\n",
    "from PIL import Image\n",
    "\n",
    "import matplotlib.pyplot as plt\n",
    "import pandas as pd\n",
    "import plotly.express as px\n",
    "from plotly.subplots import make_subplots\n",
    "import plotly.graph_objects as go\n",
    "from datetime import datetime"
   ]
  },
  {
   "cell_type": "code",
   "execution_count": 2,
   "metadata": {},
   "outputs": [],
   "source": [
    "def get_df_from_csv(csv_name):\n",
    "    return pd.read_csv(download_csv_file(csv_name), index_col=0)\n",
    "\n",
    "\n",
    "def download_csv_file(csv_name):\n",
    "    req = requests.get(\n",
    "        f\"https://raw.githubusercontent.com/pythonbrasil/dados/main/dados/python-brasil-2020/{csv_name}.csv\"\n",
    "    )\n",
    "    \n",
    "    if not os.path.exists('./files'):\n",
    "        os.makedirs('./files')    \n",
    "    csv_name = f\"./files/{csv_name}.csv\"\n",
    "    url_content = req.content\n",
    "    with open(csv_name, \"wb\") as csv_file:\n",
    "        csv_file.write(url_content)\n",
    "    csv_file.close()\n",
    "    return csv_name"
   ]
  },
  {
   "cell_type": "code",
   "execution_count": 3,
   "metadata": {},
   "outputs": [],
   "source": [
    "def get_event_tickets(csv):\n",
    "    df = get_df_from_csv(csv).reset_index()\n",
    "    df['date'] = pd.to_datetime(df['interval_start_timestamp']).dt.tz_convert(tz='America/Sao_Paulo').dt.date\n",
    "    return df[df['date'] >= datetime(2018, 11, 2).date()][['date','messages']]"
   ]
  },
  {
   "cell_type": "code",
   "execution_count": 4,
   "metadata": {},
   "outputs": [
    {
     "data": {
      "text/plain": [
       "19223"
      ]
     },
     "execution_count": 4,
     "metadata": {},
     "output_type": "execute_result"
    }
   ],
   "source": [
    "texto_df = get_event_tickets(\"discord-atividade-por-texto\")\n",
    "texto_df.messages.sum()"
   ]
  },
  {
   "cell_type": "code",
   "execution_count": 73,
   "metadata": {},
   "outputs": [],
   "source": [
    "def get_event_tickets():\n",
    "    df = get_df_from_csv(\"inscrições-palestras\")\n",
    "\n",
    "    rename_columns = {\n",
    "        \"Orientação sexual:\": \"Orientação sexual\",\n",
    "        \"Se outro, qual?\": \"Se define - Se outro, qual?\",\n",
    "        \"Se outro, qual?.1\": \"Se identifica - Se outro, qual?\",\n",
    "        \"Se outro, qual?.2\": \"Orientação sexual - Se outro, qual?\",\n",
    "        \"Se sim, qual?\": \"Necessidades específicas - Se sim, qual?\",\n",
    "        \"Se sim, qual?.1\": \"comunidade local - Se sim, qual?\",\n",
    "    }\n",
    "\n",
    "    return (\n",
    "        df[\n",
    "            [\n",
    "                \"Como você se define\",\n",
    "                \"Se outro, qual?\",\n",
    "                \"Como você se identifica?\",\n",
    "                \"Se outro, qual?.1\",\n",
    "                \"Faz parte da população T (pessoa transgênera, travesti)?\",\n",
    "                \"Orientação sexual:\",\n",
    "                \"Se outro, qual?.2\",\n",
    "                \"Pessoa com necessidades específicas?\",\n",
    "                \"Se sim, qual?\",\n",
    "                \"Em qual UF você reside?\",\n",
    "                \"Em qual país você reside?\",\n",
    "                \"De quais edições da Python Brasil você já participou?\",\n",
    "                \"Você já participou de algum outro evento Python?\",\n",
    "                \"Você participou de outros eventos online durante a pandemia de covid-19?\",\n",
    "                \"Há quanto tempo você programa em Python?\",\n",
    "                \"Como você classificaria seu nível de conhecimento em Python?\",\n",
    "                \"Você é estudante?\",\n",
    "                \"Você trabalha com Python?\",\n",
    "                \"Você pretende submeter alguma atividades (palestra, tutorial) para a Python Brasil?\",\n",
    "                \"Você faz parte de alguma comunidade local? (grupy, PUG, PyLadies, AfroPython)\",\n",
    "                \"Se sim, qual?.1\",\n",
    "            ]\n",
    "        ]\n",
    "        .rename(columns=rename_columns)\n",
    "        .fillna(\"N/A\")\n",
    "    )"
   ]
  },
  {
   "cell_type": "code",
   "execution_count": 90,
   "metadata": {},
   "outputs": [],
   "source": [
    "df = get_event_tickets()\n",
    "col = \"Em qual país você reside?\"\n",
    "df[col] = df[col].str.strip()\n",
    "df.loc[df[col] == 'Por favor, que formulário mais sem sentido. Querem também saber que orientação sexual vou querer ter na próxima encarnação? Isso não tem sentido.',col] = 'N/A'\n",
    "df.loc[df[col] == ',',col] = 'N/A'\n",
    "df.loc[df[col] == 'PNR',col] = 'N/A'\n",
    "df.loc[df[col] == 'Prefiro não responder.',col] = 'N/A'\n",
    "df.loc[df[col] == 'Alemanha, Berlin',col] = 'Alemanha'\n",
    "df.loc[df[col] == 'Canada',col] = 'Canadá'\n",
    "df.loc[df[col] == 'Dublin, Irlanda',col] = 'Irlanda'\n",
    "df.loc[df[col] == 'Ireland',col] = 'Irlanda'\n",
    "df.loc[df[col] == 'irlanda',col] = 'Irlanda'\n",
    "df.loc[df[col] == 'Italy',col] = 'Itália'\n",
    "df.loc[df[col] == 'Mocambique',col] = 'Moçambique'\n",
    "df.loc[df[col] == 'Países Baixo',col] = 'Países Baixos'\n",
    "df.loc[df[col] == 'Perú',col] = 'Peru'\n",
    "df.loc[df[col] == 'US',col] = 'EUA'\n",
    "df.loc[df[col] == 'USA',col] = 'EUA'\n",
    "df.loc[df[col] == 'Usa',col] = 'EUA'\n",
    "df.loc[df[col] == 'Estados Unidos',col] = 'EUA'\n",
    "df.loc[df[col] == 'United States',col] = 'EUA'\n",
    "df.loc[df[col] == 'CZ',col] = 'República Tcheca'\n",
    "df.loc[df[col] == 'United Kingdom',col] = 'Reino Unido'\n",
    "df.loc[df[col] == 'colombia',col] = 'Colombia'\n",
    "df.loc[df[col] == 'portugal',col] = 'Portugal'\n",
    "df.loc[df[col] == 'PT',col] = 'Portugal'\n",
    "df.loc[df[col] == 'thailand',col] = 'Tailandia'\n",
    "df.loc[df[col] == 'France',col] = 'França'\n",
    "df.loc[df[col] == 'Japao',col] = 'Japão'"
   ]
  },
  {
   "cell_type": "code",
   "execution_count": 91,
   "metadata": {},
   "outputs": [
    {
     "data": {
      "text/plain": [
       "['Alemanha',\n",
       " 'Argentina',\n",
       " 'Austria',\n",
       " 'Bangladesh',\n",
       " 'Bélgica',\n",
       " 'Cabo verde',\n",
       " 'Canadá',\n",
       " 'Chile',\n",
       " 'Colombia',\n",
       " 'EUA',\n",
       " 'Espanha',\n",
       " 'França',\n",
       " 'Holanda',\n",
       " 'Hungria',\n",
       " 'India',\n",
       " 'Irlanda',\n",
       " 'Itália',\n",
       " 'Japão',\n",
       " 'Luxemburgo',\n",
       " 'Marte',\n",
       " 'Moçambique',\n",
       " 'México',\n",
       " 'N/A',\n",
       " 'Noruega',\n",
       " 'Paraguay',\n",
       " 'Países Baixos',\n",
       " 'Peru',\n",
       " 'Portugal',\n",
       " 'Reino Unido',\n",
       " 'República Tcheca',\n",
       " 'Suécia',\n",
       " 'Tailandia',\n",
       " 'Uruguay']"
      ]
     },
     "execution_count": 91,
     "metadata": {},
     "output_type": "execute_result"
    }
   ],
   "source": [
    "x= list(df[col].unique())\n",
    "x.sort()\n",
    "x"
   ]
  },
  {
   "cell_type": "code",
   "execution_count": 2,
   "metadata": {},
   "outputs": [],
   "source": [
    "x= pd.read_csv('../files/inscrições-palestras-2021.csv')"
   ]
  },
  {
   "cell_type": "code",
   "execution_count": 3,
   "metadata": {},
   "outputs": [],
   "source": [
    "rename_columns = {\n",
    "                \"como_voce_se_define\": \"Como você se define\",\n",
    "                \"como_voce_se_define_se_outro\": \"Se outro, qual?\",\n",
    "                \"como_voce_se_indentifica\": \"Como você se identifica?\",\n",
    "                \"como_voce_se_indentifica_se_outro\": \"Se define - Se outro, qual?\",\n",
    "                \"faz_parte_da_populacao_t\": \"Faz parte da população T (pessoa transgênera, travesti)?\",\n",
    "                \"orientaca_sexual\": \"Orientação sexual\",\n",
    "                \"orientaca_sexual_se_outro\": \"Se identifica - Se outro, qual?\",\n",
    "                \"pessoa_com_necessidade_especifica\":\"Pessoa com necessidades específicas?\",\n",
    "                \"pessoa_com_necessidade_especifica_se_sim_qual\":\"Necessidades específicas - Se sim, qual?\",\n",
    "                \"uf\": \"Necessidades específicas - Se sim, qual?\",\n",
    "                \"pais\": \"Em qual país você reside?\",\n",
    "                \"edicoes_anteriores_pybr\": \"De quais edições da Python Brasil você já participou?\",\n",
    "                \"eventos_pybr\": \"Você já participou de algum outro evento Python?\",\n",
    "                \"eventos_online\": \"Você participou de outros eventos online durante a pandemia de covid-19?\",\n",
    "                \"programa_em_python\": \"Há quanto tempo você programa em Python?\",\n",
    "                \"nivel_python\": \"Como você classificaria seu nível de conhecimento em Python?\",\n",
    "                \"estudante\": \"Você é estudante?\",\n",
    "                \"trabalha_com_python\": \"Você trabalha com Python?\",\n",
    "                \"parte_de_alguma_comunidade\": \"Você faz parte de alguma comunidade local? (grupy, PUG, PyLadies, AfroPython)\",\n",
    "                \"comunidade_qual\":\"Comunidade local - Se sim, qual?\"\n",
    "            }"
   ]
  },
  {
   "cell_type": "code",
   "execution_count": 4,
   "metadata": {},
   "outputs": [],
   "source": [
    "x= x.rename(columns=rename_columns).fillna(\"N/A\")"
   ]
  },
  {
   "cell_type": "code",
   "execution_count": 8,
   "metadata": {},
   "outputs": [
    {
     "data": {
      "text/plain": [
       "array(['Não, esse é meu primeiro evento da linguagem Python / No, es mi primer evento de la comunidad Python',\n",
       "       'Sim, eventos locais / Sí, eventos locales',\n",
       "       'Sim, eventos locais / Sí, eventos locales | Sim, eventos regionais (Python Nordeste, Python Cerrado, Python Sul, etc) / Sí, eventos regionales (PyCon Latam, PyCon Bolivia)',\n",
       "       'Sim, eventos locais / Sí, eventos locales | Sim, eventos regionais (Python Nordeste, Python Cerrado, Python Sul, etc) / Sí, eventos regionales (PyCon Latam, PyCon Bolivia) | Sim, eventos internacionais / Sí, eventos internacionales',\n",
       "       'Sim, eventos regionais (Python Nordeste, Python Cerrado, Python Sul, etc) / Sí, eventos regionales (PyCon Latam, PyCon Bolivia)',\n",
       "       'Sim, eventos internacionais / Sí, eventos internacionales',\n",
       "       'Sim, eventos locais / Sí, eventos locales | Sim, eventos internacionais / Sí, eventos internacionales',\n",
       "       'Sim, eventos regionais (Python Nordeste, Python Cerrado, Python Sul, etc) / Sí, eventos regionales (PyCon Latam, PyCon Bolivia) | Sim, eventos internacionais / Sí, eventos internacionales',\n",
       "       'Sim, eventos locais / Sí, eventos locales | Não, esse é meu primeiro evento da linguagem Python / No, es mi primer evento de la comunidad Python',\n",
       "       'Sim, eventos locais / Sí, eventos locales | Sim, eventos regionais (Python Nordeste, Python Cerrado, Python Sul, etc) / Sí, eventos regionales (PyCon Latam, PyCon Bolivia) | Sim, eventos internacionais / Sí, eventos internacionales | Não, esse é meu primeiro evento da linguagem Python / No, es mi primer evento de la comunidad Python',\n",
       "       'Sim, eventos regionais (Python Nordeste, Python Cerrado, Python Sul, etc) / Sí, eventos regionales (PyCon Latam, PyCon Bolivia) | Não, esse é meu primeiro evento da linguagem Python / No, es mi primer evento de la comunidad Python',\n",
       "       'N/A'], dtype=object)"
      ]
     },
     "execution_count": 8,
     "metadata": {},
     "output_type": "execute_result"
    }
   ],
   "source": [
    "x['Você já participou de algum outro evento Python?'].unique()"
   ]
  },
  {
   "cell_type": "code",
   "execution_count": null,
   "metadata": {},
   "outputs": [],
   "source": []
  }
 ],
 "metadata": {
  "kernelspec": {
   "display_name": "Python 3 (ipykernel)",
   "language": "python",
   "name": "python3"
  },
  "language_info": {
   "codemirror_mode": {
    "name": "ipython",
    "version": 3
   },
   "file_extension": ".py",
   "mimetype": "text/x-python",
   "name": "python",
   "nbconvert_exporter": "python",
   "pygments_lexer": "ipython3",
   "version": "3.9.5"
  }
 },
 "nbformat": 4,
 "nbformat_minor": 2
}

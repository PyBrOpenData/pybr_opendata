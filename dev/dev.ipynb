{
 "metadata": {
  "language_info": {
   "codemirror_mode": {
    "name": "ipython",
    "version": 3
   },
   "file_extension": ".py",
   "mimetype": "text/x-python",
   "name": "python",
   "nbconvert_exporter": "python",
   "pygments_lexer": "ipython3",
   "version": "3.8.5-final"
  },
  "orig_nbformat": 2,
  "kernelspec": {
   "name": "python3",
   "display_name": "Python 3"
  }
 },
 "nbformat": 4,
 "nbformat_minor": 2,
 "cells": [
  {
   "source": [
    "## Notebook para testes"
   ],
   "cell_type": "markdown",
   "metadata": {}
  },
  {
   "source": [
    "import base64\n",
    "\n",
    "import pandas as pd\n",
    "import os\n",
    "import requests\n",
    "import streamlit as st\n",
    "from PIL import Image\n",
    "\n",
    "import matplotlib.pyplot as plt\n",
    "import pandas as pd\n",
    "import plotly.express as px\n",
    "from plotly.subplots import make_subplots\n",
    "import plotly.graph_objects as go\n"
   ],
   "cell_type": "code",
   "metadata": {},
   "execution_count": 5,
   "outputs": []
  },
  {
   "cell_type": "code",
   "execution_count": 29,
   "metadata": {},
   "outputs": [],
   "source": [
    "def get_df_from_csv(csv_name):\n",
    "    return pd.read_csv(download_csv_file(csv_name), index_col=0)\n",
    "\n",
    "\n",
    "def download_csv_file(csv_name):\n",
    "    req = requests.get(\n",
    "        f\"https://raw.githubusercontent.com/pythonbrasil/dados/main/dados/python-brasil-2020/{csv_name}.csv\"\n",
    "    )\n",
    "    \n",
    "    if not os.path.exists('./files'):\n",
    "        os.makedirs('./files')    \n",
    "    csv_name = f\"./files/{csv_name}.csv\"\n",
    "    url_content = req.content\n",
    "    with open(csv_name, \"wb\") as csv_file:\n",
    "        csv_file.write(url_content)\n",
    "    csv_file.close()\n",
    "    return csv_name"
   ]
  },
  {
   "cell_type": "code",
   "execution_count": 116,
   "metadata": {},
   "outputs": [],
   "source": [
    "def get_event_tickets():\n",
    "    df = get_df_from_csv(\"youtube-videos\")\n",
    "    df['Tag'] = df['Video title'].str.split(' ').str[0].replace(\" \",\"\")\n",
    "\n",
    "    df[\"Watch time (hours)\"] = df[\"Watch time (hours)\"].round(decimals=2)\n",
    "\n",
    "    df[\"Watch time (days)\"] = (df[\"Watch time (hours)\"]/24).round(decimals=2)\n",
    "\n",
    "    df.loc[df['Video title'] == '[PyBr2020] Trilha PEP0 - 2 -  Quinta-feira - Dia 05/11 #pybr2020', 'Video title'] = '[PyBr2020] Trilha PEP0 - Quinta-feira - Dia 05/11 #pybr2020'\n",
    "\n",
    "    df.loc[df['Video title'] == '[PyBr2020] Trilha PEP0 - 2 - Quarta-feira  - Dia 04/11 #pybr2020', 'Video title'] = '[PyBr2020] Trilha PEP0 - Quarta-feira - Dia 04/11 #pybr2020'\n",
    "\n",
    "    df.loc[df['Video title'] == '[PyBr2020] Trilha PEP404 - 2 - Quinta-feira - Dia 05/11 #pybr2020', 'Video title'] = '[PyBr2020] Trilha PEP404 - Quinta-feira - Dia 05/11 #pybr2020'\n",
    "\n",
    "    df = df[df['Tag'] =='[PyBr2020]'][['Video title','Views','Watch time (hours)','Watch time (days)' ]].copy()\n",
    "\n",
    "    return df.groupby(['Video title']).sum().reset_index()\n"
   ]
  },
  {
   "cell_type": "code",
   "execution_count": 203,
   "metadata": {},
   "outputs": [
    {
     "output_type": "execute_result",
     "data": {
      "text/plain": [
       "427.90000000000003"
      ]
     },
     "metadata": {},
     "execution_count": 203
    }
   ],
   "source": [
    "sample_df = get_event_tickets()\n",
    "sample_df['Views'].sum()\n",
    "sample_df['Watch time (hours)'].sum()\n",
    "sample_df['Watch time (days)'].sum()"
   ]
  },
  {
   "cell_type": "code",
   "execution_count": 196,
   "metadata": {},
   "outputs": [
    {
     "output_type": "display_data",
     "data": {
      "application/vnd.plotly.v1+json": {
       "config": {
        "plotlyServerURL": "https://plot.ly"
       },
       "data": [
        {
         "marker": {
          "color": [
           -10,
           -9,
           -8,
           -7,
           -6,
           -5,
           -4,
           -3,
           -2,
           -1,
           0,
           1,
           2,
           3,
           4,
           5,
           6,
           7,
           8,
           9,
           10,
           11,
           12,
           13,
           14,
           15,
           16,
           17,
           18,
           19
          ]
         },
         "name": "Views",
         "orientation": "v",
         "type": "bar",
         "x": [
          "[PyBr2020] Trilha PEP20 - Sexta-Feira - Dia 06/11 #pybr2020",
          "[PyBr2020] Trilha PEP404 - Sexta-Feira - Dia 06/11 #pybr2020",
          "[PyBr2020] Trilha PEP0 - Sexta-Feira - Dia 06/11 #pybr2020",
          "[PyBr2020] Trilha PEP8 - Sexta-Feira - Dia 06/11 #pybr2020",
          "[PyBr2020] Mesa Redonda - Sexta-Feira - Dia 06/11 #pybr2020",
          "[PyBr2020] Keynote: Álvaro Justen “Turicas” - Quinta-feira - Dia 05/11 #pybr2020",
          "[PyBr2020] Trilha PEP8 - Quinta-feira - Dia 05/11 #pybr2020",
          "[PyBr2020] Keynote: Thais Viana - Quarta-feira - Dia 04/11 #pybr2020",
          "[PyBr2020] Trilha PEP20 - Quarta-feira - Dia 04/11 #pybr2020",
          "[PyBr2020] Trilha PEP20 - Quinta-feira - Dia 05/11 #pybr2020 15",
          "[PyBr2020] Trilha PEP404 - Quarta-feira - Dia 04/11 #pybr2020",
          "[PyBr2020] Keynote: Ana Paula Gomes  & Encerramento Oficial - Sexta-Feira - Dia 06/11 #pybr2020",
          "[PyBr2020] Trilha PEP404 - Quinta-feira - Dia 05/11 #pybr2020",
          "[PyBr2020] Trilha PEP8 - Quarta-feira - Dia 04/11 #pybr2020",
          "[PyBr2020] Mesa Redonda - Quinta-feira - Dia 05/11 #pybr2020",
          "[PyBr2020] Keynote: Diana Rodriguez - Terça-feira - Dia 03/11 #pybr2020",
          "[PyBr2020] Trilha PEP0 - Quinta-feira - Dia 05/11 #pybr2020",
          "[PyBr2020] Trilha PEP20 - Terça-feira - Dia 03/11 #pybr2020",
          "[PyBr2020] Trilha PEP0 - Quarta-feira - Dia 04/11 #pybr2020",
          "[PyBr2020] Trilha PEP0 - Terça-feira - Dia 03/11 #pybr2020",
          "[PyBr2020] Trilha PEP8 - Terça-feira - Dia 03/11 #pybr2020",
          "[PyBr2020] Keynote: Melissa Weber Mendonça - Segunda-feira - Dia 02 #pybr2020",
          "[PyBr2020] Trilha PEP404 - Terça-feira - Dia 03/11 #pybr2020",
          "[PyBr2020] Mesa Redonda -Quarta-feira- Dia 04/11 #pybr2020 @Pizza de Dados@E AI, Carla?@Peixe Babel",
          "[PyBr2020] Trilha PEP0 - Segunda-feira - Dia 02 #pybr2020",
          "[PyBr2020] Mesa Redonda - Terça-feira - Dia 03/11 #pybr2020",
          "[PyBr2020] Trilha PEP404 - Segunda-feira - Dia 02 #pybr2020",
          "[PyBr2020] Trilha PEP8 - Segunda-feira - Dia 02 #pybr2020",
          "[PyBr2020] Trilha PEP20 - Segunda-feira - Dia 02 #pybr2020",
          "[PyBr2020] Abertura + Mesa Redonda - Segunda-feira - Dia 02 #pybr2020"
         ],
         "y": [
          294,
          296,
          386,
          418,
          498,
          570,
          727,
          820,
          902,
          1002,
          1020,
          1049,
          1053,
          1099,
          1128,
          1129,
          1184,
          1191,
          1550,
          1590,
          1770,
          1823,
          2087,
          2109,
          2601,
          2668,
          2760,
          3309,
          3927,
          4373
         ]
        }
       ],
       "layout": {
        "template": {
         "data": {
          "bar": [
           {
            "error_x": {
             "color": "#2a3f5f"
            },
            "error_y": {
             "color": "#2a3f5f"
            },
            "marker": {
             "line": {
              "color": "#E5ECF6",
              "width": 0.5
             }
            },
            "type": "bar"
           }
          ],
          "barpolar": [
           {
            "marker": {
             "line": {
              "color": "#E5ECF6",
              "width": 0.5
             }
            },
            "type": "barpolar"
           }
          ],
          "carpet": [
           {
            "aaxis": {
             "endlinecolor": "#2a3f5f",
             "gridcolor": "white",
             "linecolor": "white",
             "minorgridcolor": "white",
             "startlinecolor": "#2a3f5f"
            },
            "baxis": {
             "endlinecolor": "#2a3f5f",
             "gridcolor": "white",
             "linecolor": "white",
             "minorgridcolor": "white",
             "startlinecolor": "#2a3f5f"
            },
            "type": "carpet"
           }
          ],
          "choropleth": [
           {
            "colorbar": {
             "outlinewidth": 0,
             "ticks": ""
            },
            "type": "choropleth"
           }
          ],
          "contour": [
           {
            "colorbar": {
             "outlinewidth": 0,
             "ticks": ""
            },
            "colorscale": [
             [
              0,
              "#0d0887"
             ],
             [
              0.1111111111111111,
              "#46039f"
             ],
             [
              0.2222222222222222,
              "#7201a8"
             ],
             [
              0.3333333333333333,
              "#9c179e"
             ],
             [
              0.4444444444444444,
              "#bd3786"
             ],
             [
              0.5555555555555556,
              "#d8576b"
             ],
             [
              0.6666666666666666,
              "#ed7953"
             ],
             [
              0.7777777777777778,
              "#fb9f3a"
             ],
             [
              0.8888888888888888,
              "#fdca26"
             ],
             [
              1,
              "#f0f921"
             ]
            ],
            "type": "contour"
           }
          ],
          "contourcarpet": [
           {
            "colorbar": {
             "outlinewidth": 0,
             "ticks": ""
            },
            "type": "contourcarpet"
           }
          ],
          "heatmap": [
           {
            "colorbar": {
             "outlinewidth": 0,
             "ticks": ""
            },
            "colorscale": [
             [
              0,
              "#0d0887"
             ],
             [
              0.1111111111111111,
              "#46039f"
             ],
             [
              0.2222222222222222,
              "#7201a8"
             ],
             [
              0.3333333333333333,
              "#9c179e"
             ],
             [
              0.4444444444444444,
              "#bd3786"
             ],
             [
              0.5555555555555556,
              "#d8576b"
             ],
             [
              0.6666666666666666,
              "#ed7953"
             ],
             [
              0.7777777777777778,
              "#fb9f3a"
             ],
             [
              0.8888888888888888,
              "#fdca26"
             ],
             [
              1,
              "#f0f921"
             ]
            ],
            "type": "heatmap"
           }
          ],
          "heatmapgl": [
           {
            "colorbar": {
             "outlinewidth": 0,
             "ticks": ""
            },
            "colorscale": [
             [
              0,
              "#0d0887"
             ],
             [
              0.1111111111111111,
              "#46039f"
             ],
             [
              0.2222222222222222,
              "#7201a8"
             ],
             [
              0.3333333333333333,
              "#9c179e"
             ],
             [
              0.4444444444444444,
              "#bd3786"
             ],
             [
              0.5555555555555556,
              "#d8576b"
             ],
             [
              0.6666666666666666,
              "#ed7953"
             ],
             [
              0.7777777777777778,
              "#fb9f3a"
             ],
             [
              0.8888888888888888,
              "#fdca26"
             ],
             [
              1,
              "#f0f921"
             ]
            ],
            "type": "heatmapgl"
           }
          ],
          "histogram": [
           {
            "marker": {
             "colorbar": {
              "outlinewidth": 0,
              "ticks": ""
             }
            },
            "type": "histogram"
           }
          ],
          "histogram2d": [
           {
            "colorbar": {
             "outlinewidth": 0,
             "ticks": ""
            },
            "colorscale": [
             [
              0,
              "#0d0887"
             ],
             [
              0.1111111111111111,
              "#46039f"
             ],
             [
              0.2222222222222222,
              "#7201a8"
             ],
             [
              0.3333333333333333,
              "#9c179e"
             ],
             [
              0.4444444444444444,
              "#bd3786"
             ],
             [
              0.5555555555555556,
              "#d8576b"
             ],
             [
              0.6666666666666666,
              "#ed7953"
             ],
             [
              0.7777777777777778,
              "#fb9f3a"
             ],
             [
              0.8888888888888888,
              "#fdca26"
             ],
             [
              1,
              "#f0f921"
             ]
            ],
            "type": "histogram2d"
           }
          ],
          "histogram2dcontour": [
           {
            "colorbar": {
             "outlinewidth": 0,
             "ticks": ""
            },
            "colorscale": [
             [
              0,
              "#0d0887"
             ],
             [
              0.1111111111111111,
              "#46039f"
             ],
             [
              0.2222222222222222,
              "#7201a8"
             ],
             [
              0.3333333333333333,
              "#9c179e"
             ],
             [
              0.4444444444444444,
              "#bd3786"
             ],
             [
              0.5555555555555556,
              "#d8576b"
             ],
             [
              0.6666666666666666,
              "#ed7953"
             ],
             [
              0.7777777777777778,
              "#fb9f3a"
             ],
             [
              0.8888888888888888,
              "#fdca26"
             ],
             [
              1,
              "#f0f921"
             ]
            ],
            "type": "histogram2dcontour"
           }
          ],
          "mesh3d": [
           {
            "colorbar": {
             "outlinewidth": 0,
             "ticks": ""
            },
            "type": "mesh3d"
           }
          ],
          "parcoords": [
           {
            "line": {
             "colorbar": {
              "outlinewidth": 0,
              "ticks": ""
             }
            },
            "type": "parcoords"
           }
          ],
          "pie": [
           {
            "automargin": true,
            "type": "pie"
           }
          ],
          "scatter": [
           {
            "marker": {
             "colorbar": {
              "outlinewidth": 0,
              "ticks": ""
             }
            },
            "type": "scatter"
           }
          ],
          "scatter3d": [
           {
            "line": {
             "colorbar": {
              "outlinewidth": 0,
              "ticks": ""
             }
            },
            "marker": {
             "colorbar": {
              "outlinewidth": 0,
              "ticks": ""
             }
            },
            "type": "scatter3d"
           }
          ],
          "scattercarpet": [
           {
            "marker": {
             "colorbar": {
              "outlinewidth": 0,
              "ticks": ""
             }
            },
            "type": "scattercarpet"
           }
          ],
          "scattergeo": [
           {
            "marker": {
             "colorbar": {
              "outlinewidth": 0,
              "ticks": ""
             }
            },
            "type": "scattergeo"
           }
          ],
          "scattergl": [
           {
            "marker": {
             "colorbar": {
              "outlinewidth": 0,
              "ticks": ""
             }
            },
            "type": "scattergl"
           }
          ],
          "scattermapbox": [
           {
            "marker": {
             "colorbar": {
              "outlinewidth": 0,
              "ticks": ""
             }
            },
            "type": "scattermapbox"
           }
          ],
          "scatterpolar": [
           {
            "marker": {
             "colorbar": {
              "outlinewidth": 0,
              "ticks": ""
             }
            },
            "type": "scatterpolar"
           }
          ],
          "scatterpolargl": [
           {
            "marker": {
             "colorbar": {
              "outlinewidth": 0,
              "ticks": ""
             }
            },
            "type": "scatterpolargl"
           }
          ],
          "scatterternary": [
           {
            "marker": {
             "colorbar": {
              "outlinewidth": 0,
              "ticks": ""
             }
            },
            "type": "scatterternary"
           }
          ],
          "surface": [
           {
            "colorbar": {
             "outlinewidth": 0,
             "ticks": ""
            },
            "colorscale": [
             [
              0,
              "#0d0887"
             ],
             [
              0.1111111111111111,
              "#46039f"
             ],
             [
              0.2222222222222222,
              "#7201a8"
             ],
             [
              0.3333333333333333,
              "#9c179e"
             ],
             [
              0.4444444444444444,
              "#bd3786"
             ],
             [
              0.5555555555555556,
              "#d8576b"
             ],
             [
              0.6666666666666666,
              "#ed7953"
             ],
             [
              0.7777777777777778,
              "#fb9f3a"
             ],
             [
              0.8888888888888888,
              "#fdca26"
             ],
             [
              1,
              "#f0f921"
             ]
            ],
            "type": "surface"
           }
          ],
          "table": [
           {
            "cells": {
             "fill": {
              "color": "#EBF0F8"
             },
             "line": {
              "color": "white"
             }
            },
            "header": {
             "fill": {
              "color": "#C8D4E3"
             },
             "line": {
              "color": "white"
             }
            },
            "type": "table"
           }
          ]
         },
         "layout": {
          "annotationdefaults": {
           "arrowcolor": "#2a3f5f",
           "arrowhead": 0,
           "arrowwidth": 1
          },
          "coloraxis": {
           "colorbar": {
            "outlinewidth": 0,
            "ticks": ""
           }
          },
          "colorscale": {
           "diverging": [
            [
             0,
             "#8e0152"
            ],
            [
             0.1,
             "#c51b7d"
            ],
            [
             0.2,
             "#de77ae"
            ],
            [
             0.3,
             "#f1b6da"
            ],
            [
             0.4,
             "#fde0ef"
            ],
            [
             0.5,
             "#f7f7f7"
            ],
            [
             0.6,
             "#e6f5d0"
            ],
            [
             0.7,
             "#b8e186"
            ],
            [
             0.8,
             "#7fbc41"
            ],
            [
             0.9,
             "#4d9221"
            ],
            [
             1,
             "#276419"
            ]
           ],
           "sequential": [
            [
             0,
             "#0d0887"
            ],
            [
             0.1111111111111111,
             "#46039f"
            ],
            [
             0.2222222222222222,
             "#7201a8"
            ],
            [
             0.3333333333333333,
             "#9c179e"
            ],
            [
             0.4444444444444444,
             "#bd3786"
            ],
            [
             0.5555555555555556,
             "#d8576b"
            ],
            [
             0.6666666666666666,
             "#ed7953"
            ],
            [
             0.7777777777777778,
             "#fb9f3a"
            ],
            [
             0.8888888888888888,
             "#fdca26"
            ],
            [
             1,
             "#f0f921"
            ]
           ],
           "sequentialminus": [
            [
             0,
             "#0d0887"
            ],
            [
             0.1111111111111111,
             "#46039f"
            ],
            [
             0.2222222222222222,
             "#7201a8"
            ],
            [
             0.3333333333333333,
             "#9c179e"
            ],
            [
             0.4444444444444444,
             "#bd3786"
            ],
            [
             0.5555555555555556,
             "#d8576b"
            ],
            [
             0.6666666666666666,
             "#ed7953"
            ],
            [
             0.7777777777777778,
             "#fb9f3a"
            ],
            [
             0.8888888888888888,
             "#fdca26"
            ],
            [
             1,
             "#f0f921"
            ]
           ]
          },
          "colorway": [
           "#636efa",
           "#EF553B",
           "#00cc96",
           "#ab63fa",
           "#FFA15A",
           "#19d3f3",
           "#FF6692",
           "#B6E880",
           "#FF97FF",
           "#FECB52"
          ],
          "font": {
           "color": "#2a3f5f"
          },
          "geo": {
           "bgcolor": "white",
           "lakecolor": "white",
           "landcolor": "#E5ECF6",
           "showlakes": true,
           "showland": true,
           "subunitcolor": "white"
          },
          "hoverlabel": {
           "align": "left"
          },
          "hovermode": "closest",
          "mapbox": {
           "style": "light"
          },
          "paper_bgcolor": "white",
          "plot_bgcolor": "#E5ECF6",
          "polar": {
           "angularaxis": {
            "gridcolor": "white",
            "linecolor": "white",
            "ticks": ""
           },
           "bgcolor": "#E5ECF6",
           "radialaxis": {
            "gridcolor": "white",
            "linecolor": "white",
            "ticks": ""
           }
          },
          "scene": {
           "xaxis": {
            "backgroundcolor": "#E5ECF6",
            "gridcolor": "white",
            "gridwidth": 2,
            "linecolor": "white",
            "showbackground": true,
            "ticks": "",
            "zerolinecolor": "white"
           },
           "yaxis": {
            "backgroundcolor": "#E5ECF6",
            "gridcolor": "white",
            "gridwidth": 2,
            "linecolor": "white",
            "showbackground": true,
            "ticks": "",
            "zerolinecolor": "white"
           },
           "zaxis": {
            "backgroundcolor": "#E5ECF6",
            "gridcolor": "white",
            "gridwidth": 2,
            "linecolor": "white",
            "showbackground": true,
            "ticks": "",
            "zerolinecolor": "white"
           }
          },
          "shapedefaults": {
           "line": {
            "color": "#2a3f5f"
           }
          },
          "ternary": {
           "aaxis": {
            "gridcolor": "white",
            "linecolor": "white",
            "ticks": ""
           },
           "baxis": {
            "gridcolor": "white",
            "linecolor": "white",
            "ticks": ""
           },
           "bgcolor": "#E5ECF6",
           "caxis": {
            "gridcolor": "white",
            "linecolor": "white",
            "ticks": ""
           }
          },
          "title": {
           "x": 0.05
          },
          "xaxis": {
           "automargin": true,
           "gridcolor": "white",
           "linecolor": "white",
           "ticks": "",
           "title": {
            "standoff": 15
           },
           "zerolinecolor": "white",
           "zerolinewidth": 2
          },
          "yaxis": {
           "automargin": true,
           "gridcolor": "white",
           "linecolor": "white",
           "ticks": "",
           "title": {
            "standoff": 15
           },
           "zerolinecolor": "white",
           "zerolinewidth": 2
          }
         }
        }
       }
      }
     },
     "metadata": {}
    }
   ],
   "source": [
    "total_column = 'Views'\n",
    "categorical_colum = 'Video title'\n",
    "\n",
    "percent=False\n",
    "\n",
    "sample_df = sample_df.sort_values(by=total_column)\n",
    "values = sample_df[total_column]\n",
    "values_perc = [round(value / sum(values) * 100, 2) for value in values]\n",
    "categories = sample_df[categorical_colum]\n",
    "\n",
    "\n",
    "# title = (\n",
    "#     f\"Valores em Percentual: {categorical_column}\"\n",
    "#     if percent\n",
    "#     else f\"Valores em Quantidade: {categorical_column}\"\n",
    "# )\n",
    "\n",
    "fig = go.Figure()\n",
    "\n",
    "if percent:\n",
    "    fig.add_trace(\n",
    "        go.Bar(\n",
    "            x=categories,\n",
    "            y=values_perc,\n",
    "            name=f\"{categorical_column}\",\n",
    "            orientation=\"v\",\n",
    "            marker={\"color\": list(range(-10,20))}\n",
    "        ),\n",
    "    )\n",
    "else:\n",
    "    fig.add_trace(\n",
    "        go.Bar(\n",
    "            x=categories,\n",
    "            y=values,\n",
    "            name=f\"{categorical_column}\",\n",
    "            orientation=\"v\",\n",
    "            marker={\"color\": list(range(-10,20))}\n",
    "        ),\n",
    "    )\n",
    "# # # fig.update_layout(title_text=f\"{title}\")\n",
    "fig.show()"
   ]
  },
  {
   "cell_type": "code",
   "execution_count": null,
   "metadata": {},
   "outputs": [],
   "source": []
  },
  {
   "cell_type": "code",
   "execution_count": null,
   "metadata": {},
   "outputs": [],
   "source": []
  }
 ]
}
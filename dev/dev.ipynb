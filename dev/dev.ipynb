{
 "metadata": {
  "language_info": {
   "codemirror_mode": {
    "name": "ipython",
    "version": 3
   },
   "file_extension": ".py",
   "mimetype": "text/x-python",
   "name": "python",
   "nbconvert_exporter": "python",
   "pygments_lexer": "ipython3",
   "version": "3.8.5-final"
  },
  "orig_nbformat": 2,
  "kernelspec": {
   "name": "python3",
   "display_name": "Python 3"
  }
 },
 "nbformat": 4,
 "nbformat_minor": 2,
 "cells": [
  {
   "source": [
    "## Notebook para testes"
   ],
   "cell_type": "markdown",
   "metadata": {}
  },
  {
   "source": [
    "import base64\n",
    "\n",
    "import pandas as pd\n",
    "import os\n",
    "import requests\n",
    "import streamlit as st\n",
    "from PIL import Image\n",
    "\n",
    "import matplotlib.pyplot as plt\n",
    "import pandas as pd\n",
    "import plotly.express as px\n",
    "from plotly.subplots import make_subplots\n",
    "import plotly.graph_objects as go\n",
    "from datetime import datetime"
   ],
   "cell_type": "code",
   "metadata": {},
   "execution_count": 38,
   "outputs": []
  },
  {
   "cell_type": "code",
   "execution_count": 7,
   "metadata": {},
   "outputs": [],
   "source": [
    "def get_df_from_csv(csv_name):\n",
    "    return pd.read_csv(download_csv_file(csv_name), index_col=0)\n",
    "\n",
    "\n",
    "def download_csv_file(csv_name):\n",
    "    req = requests.get(\n",
    "        f\"https://raw.githubusercontent.com/pythonbrasil/dados/main/dados/python-brasil-2020/{csv_name}.csv\"\n",
    "    )\n",
    "    \n",
    "    if not os.path.exists('./files'):\n",
    "        os.makedirs('./files')    \n",
    "    csv_name = f\"./files/{csv_name}.csv\"\n",
    "    url_content = req.content\n",
    "    with open(csv_name, \"wb\") as csv_file:\n",
    "        csv_file.write(url_content)\n",
    "    csv_file.close()\n",
    "    return csv_name"
   ]
  },
  {
   "cell_type": "code",
   "execution_count": 68,
   "metadata": {},
   "outputs": [],
   "source": [
    "def get_event_tickets(csv):\n",
    "    df = get_df_from_csv(csv).reset_index()\n",
    "    df['date'] = pd.to_datetime(df['interval_start_timestamp']).dt.tz_convert(tz='America/Sao_Paulo').dt.date\n",
    "    return df[df['date'] >= datetime(2018, 11, 2).date()][['date','messages']]"
   ]
  },
  {
   "cell_type": "code",
   "execution_count": 71,
   "metadata": {},
   "outputs": [
    {
     "output_type": "execute_result",
     "data": {
      "text/plain": [
       "19223"
      ]
     },
     "metadata": {},
     "execution_count": 71
    }
   ],
   "source": [
    "texto_df = get_event_tickets(\"discord-atividade-por-texto\")\n",
    "texto_df.messages.sum()"
   ]
  },
  {
   "cell_type": "code",
   "execution_count": 65,
   "metadata": {},
   "outputs": [
    {
     "output_type": "execute_result",
     "data": {
      "text/plain": [
       "  interval_start_timestamp  speaking_minutes\n",
       "0               2020-10-31               506\n",
       "1               2020-11-01              2996\n",
       "2               2020-11-02              1674\n",
       "3               2020-11-03              1336\n",
       "4               2020-11-04              2152\n",
       "5               2020-11-05              4919\n",
       "6               2020-11-06              8204\n",
       "7               2020-11-07              4964"
      ],
      "text/html": "<div>\n<style scoped>\n    .dataframe tbody tr th:only-of-type {\n        vertical-align: middle;\n    }\n\n    .dataframe tbody tr th {\n        vertical-align: top;\n    }\n\n    .dataframe thead th {\n        text-align: right;\n    }\n</style>\n<table border=\"1\" class=\"dataframe\">\n  <thead>\n    <tr style=\"text-align: right;\">\n      <th></th>\n      <th>interval_start_timestamp</th>\n      <th>speaking_minutes</th>\n    </tr>\n  </thead>\n  <tbody>\n    <tr>\n      <th>0</th>\n      <td>2020-10-31</td>\n      <td>506</td>\n    </tr>\n    <tr>\n      <th>1</th>\n      <td>2020-11-01</td>\n      <td>2996</td>\n    </tr>\n    <tr>\n      <th>2</th>\n      <td>2020-11-02</td>\n      <td>1674</td>\n    </tr>\n    <tr>\n      <th>3</th>\n      <td>2020-11-03</td>\n      <td>1336</td>\n    </tr>\n    <tr>\n      <th>4</th>\n      <td>2020-11-04</td>\n      <td>2152</td>\n    </tr>\n    <tr>\n      <th>5</th>\n      <td>2020-11-05</td>\n      <td>4919</td>\n    </tr>\n    <tr>\n      <th>6</th>\n      <td>2020-11-06</td>\n      <td>8204</td>\n    </tr>\n    <tr>\n      <th>7</th>\n      <td>2020-11-07</td>\n      <td>4964</td>\n    </tr>\n  </tbody>\n</table>\n</div>"
     },
     "metadata": {},
     "execution_count": 65
    }
   ],
   "source": [
    "voz_df = get_event_tickets(\"discord-atividade-por-voz\")\n",
    "voz_df"
   ]
  },
  {
   "cell_type": "code",
   "execution_count": null,
   "metadata": {},
   "outputs": [],
   "source": []
  }
 ]
}